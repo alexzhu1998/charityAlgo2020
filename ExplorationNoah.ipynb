{
  "nbformat": 4,
  "nbformat_minor": 0,
  "metadata": {
    "language_info": {
      "codemirror_mode": {
        "name": "ipython",
        "version": 3
      },
      "file_extension": ".py",
      "mimetype": "text/x-python",
      "name": "python",
      "nbconvert_exporter": "python",
      "pygments_lexer": "ipython3",
      "version": "3.8.2-final"
    },
    "orig_nbformat": 2,
    "kernelspec": {
      "name": "python38264bitc88cacf201044ede9283e2dff906a6e1",
      "display_name": "Python 3.8.2 64-bit"
    },
    "colab": {
      "name": "ExplorationNoah.ipynb",
      "provenance": [],
      "collapsed_sections": []
    }
  },
  "cells": [
    {
      "cell_type": "code",
      "metadata": {
        "id": "in-EhtH1MEcx",
        "outputId": "30997e38-4858-4736-900f-4c616485fc51",
        "colab": {
          "base_uri": "https://localhost:8080/",
          "height": 462
        }
      },
      "source": [
        "!pip install stockstats\n",
        "!pip install mplfinance"
      ],
      "execution_count": null,
      "outputs": [
        {
          "output_type": "stream",
          "text": [
            "Collecting stockstats\n",
            "  Downloading https://files.pythonhosted.org/packages/32/41/d3828c5bc0a262cb3112a4024108a3b019c183fa3b3078bff34bf25abf91/stockstats-0.3.2-py2.py3-none-any.whl\n",
            "Requirement already satisfied: numpy>=1.9.2 in /usr/local/lib/python3.6/dist-packages (from stockstats) (1.18.5)\n",
            "Requirement already satisfied: pandas>=0.18.1 in /usr/local/lib/python3.6/dist-packages (from stockstats) (1.1.2)\n",
            "Collecting int-date>=0.1.7\n",
            "  Downloading https://files.pythonhosted.org/packages/43/27/31803df15173ab341fe7548c14154b54227dfd8f630daa09a1c6e7db52f7/int_date-0.1.8-py2.py3-none-any.whl\n",
            "Requirement already satisfied: pytz>=2017.2 in /usr/local/lib/python3.6/dist-packages (from pandas>=0.18.1->stockstats) (2018.9)\n",
            "Requirement already satisfied: python-dateutil>=2.7.3 in /usr/local/lib/python3.6/dist-packages (from pandas>=0.18.1->stockstats) (2.8.1)\n",
            "Requirement already satisfied: six>=1.9.0 in /usr/local/lib/python3.6/dist-packages (from int-date>=0.1.7->stockstats) (1.15.0)\n",
            "Installing collected packages: int-date, stockstats\n",
            "Successfully installed int-date-0.1.8 stockstats-0.3.2\n",
            "Collecting mplfinance\n",
            "\u001b[?25l  Downloading https://files.pythonhosted.org/packages/cd/01/3418bb0c9952d4a3c24893e883df8e39065d7a13e7d60ae4f139a9eafc78/mplfinance-0.12.7a0-py3-none-any.whl (55kB)\n",
            "\u001b[K     |████████████████████████████████| 61kB 1.8MB/s \n",
            "\u001b[?25hRequirement already satisfied: matplotlib in /usr/local/lib/python3.6/dist-packages (from mplfinance) (3.2.2)\n",
            "Requirement already satisfied: pandas in /usr/local/lib/python3.6/dist-packages (from mplfinance) (1.1.2)\n",
            "Requirement already satisfied: numpy>=1.11 in /usr/local/lib/python3.6/dist-packages (from matplotlib->mplfinance) (1.18.5)\n",
            "Requirement already satisfied: pyparsing!=2.0.4,!=2.1.2,!=2.1.6,>=2.0.1 in /usr/local/lib/python3.6/dist-packages (from matplotlib->mplfinance) (2.4.7)\n",
            "Requirement already satisfied: cycler>=0.10 in /usr/local/lib/python3.6/dist-packages (from matplotlib->mplfinance) (0.10.0)\n",
            "Requirement already satisfied: python-dateutil>=2.1 in /usr/local/lib/python3.6/dist-packages (from matplotlib->mplfinance) (2.8.1)\n",
            "Requirement already satisfied: kiwisolver>=1.0.1 in /usr/local/lib/python3.6/dist-packages (from matplotlib->mplfinance) (1.2.0)\n",
            "Requirement already satisfied: pytz>=2017.2 in /usr/local/lib/python3.6/dist-packages (from pandas->mplfinance) (2018.9)\n",
            "Requirement already satisfied: six in /usr/local/lib/python3.6/dist-packages (from cycler>=0.10->matplotlib->mplfinance) (1.15.0)\n",
            "Installing collected packages: mplfinance\n",
            "Successfully installed mplfinance-0.12.7a0\n"
          ],
          "name": "stdout"
        }
      ]
    },
    {
      "cell_type": "code",
      "metadata": {
        "id": "OEwEO0oZJnuT"
      },
      "source": [
        "import urllib\n",
        "import time\n",
        "import pytz\n",
        "import matplotlib.pyplot as plt\n",
        "import matplotlib.dates as mdates\n",
        "import matplotlib.ticker as mticker\n",
        "import pandas as pd\n",
        "import plotly.graph_objects as go\n",
        "import numpy as np\n",
        "import stockstats\n",
        "import mplfinance as mpf\n",
        "\n",
        "\n",
        "from datetime import datetime\n",
        "from pandas_datareader import data\n",
        "from stockstats import StockDataFrame\n",
        "from mplfinance.original_flavor import candlestick_ohlc\n",
        "# from mpl_finance import candlestick_ohlc"
      ],
      "execution_count": null,
      "outputs": []
    },
    {
      "cell_type": "code",
      "metadata": {
        "tags": [],
        "id": "-JaQXbtqJnug",
        "outputId": "08847698-8e4c-4480-a511-b007f313afd1",
        "colab": {
          "base_uri": "https://localhost:8080/",
          "height": 51
        }
      },
      "source": [
        "now = datetime.now()\n",
        "current_time = now.strftime('%Y-%m-%d %H:%M:%S')\n",
        "print(\"Current Time:\", current_time)\n",
        "\n",
        "tz_Sydney = pytz.timezone('Australia/Sydney')\n",
        "datetime_Sydney = datetime.now(tz_Sydney)\n",
        "print(\"Sydney time:\", datetime_Sydney.strftime(\"%Y-%m-%d %H:%M:%S\"))\n"
      ],
      "execution_count": null,
      "outputs": [
        {
          "output_type": "stream",
          "text": [
            "Current Time: 2020-10-22 03:41:08\n",
            "Sydney time: 2020-10-22 14:41:08\n"
          ],
          "name": "stdout"
        }
      ]
    },
    {
      "cell_type": "code",
      "metadata": {
        "id": "vmjXkQbpJnus",
        "outputId": "678759e1-00c0-402e-9741-342dbe4f2647",
        "colab": {
          "base_uri": "https://localhost:8080/",
          "height": 390
        }
      },
      "source": [
        "stocks = ['SPY']\n",
        "start_date = '2016-11-01'\n",
        "end_date = '2020-09-30'\n",
        "\n",
        "# User pandas_reader.data.DataReader to load the desired data. As simple as that.\n",
        "rawDf = data.DataReader(stocks, 'yahoo', start_date, end_date)\n",
        "rawDf.head(9)"
      ],
      "execution_count": null,
      "outputs": [
        {
          "output_type": "execute_result",
          "data": {
            "text/html": [
              "<div>\n",
              "<style scoped>\n",
              "    .dataframe tbody tr th:only-of-type {\n",
              "        vertical-align: middle;\n",
              "    }\n",
              "\n",
              "    .dataframe tbody tr th {\n",
              "        vertical-align: top;\n",
              "    }\n",
              "\n",
              "    .dataframe thead tr th {\n",
              "        text-align: left;\n",
              "    }\n",
              "\n",
              "    .dataframe thead tr:last-of-type th {\n",
              "        text-align: right;\n",
              "    }\n",
              "</style>\n",
              "<table border=\"1\" class=\"dataframe\">\n",
              "  <thead>\n",
              "    <tr>\n",
              "      <th>Attributes</th>\n",
              "      <th>Adj Close</th>\n",
              "      <th>Close</th>\n",
              "      <th>High</th>\n",
              "      <th>Low</th>\n",
              "      <th>Open</th>\n",
              "      <th>Volume</th>\n",
              "    </tr>\n",
              "    <tr>\n",
              "      <th>Symbols</th>\n",
              "      <th>SPY</th>\n",
              "      <th>SPY</th>\n",
              "      <th>SPY</th>\n",
              "      <th>SPY</th>\n",
              "      <th>SPY</th>\n",
              "      <th>SPY</th>\n",
              "    </tr>\n",
              "    <tr>\n",
              "      <th>Date</th>\n",
              "      <th></th>\n",
              "      <th></th>\n",
              "      <th></th>\n",
              "      <th></th>\n",
              "      <th></th>\n",
              "      <th></th>\n",
              "    </tr>\n",
              "  </thead>\n",
              "  <tbody>\n",
              "    <tr>\n",
              "      <th>2016-11-01</th>\n",
              "      <td>195.380661</td>\n",
              "      <td>211.009995</td>\n",
              "      <td>212.990005</td>\n",
              "      <td>209.600006</td>\n",
              "      <td>212.929993</td>\n",
              "      <td>122781800.0</td>\n",
              "    </tr>\n",
              "    <tr>\n",
              "      <th>2016-11-02</th>\n",
              "      <td>194.204712</td>\n",
              "      <td>209.740005</td>\n",
              "      <td>211.100006</td>\n",
              "      <td>209.229996</td>\n",
              "      <td>210.649994</td>\n",
              "      <td>103330800.0</td>\n",
              "    </tr>\n",
              "    <tr>\n",
              "      <th>2016-11-03</th>\n",
              "      <td>193.315811</td>\n",
              "      <td>208.779999</td>\n",
              "      <td>210.240005</td>\n",
              "      <td>208.460007</td>\n",
              "      <td>209.990005</td>\n",
              "      <td>88939300.0</td>\n",
              "    </tr>\n",
              "    <tr>\n",
              "      <th>2016-11-04</th>\n",
              "      <td>193.102814</td>\n",
              "      <td>208.550003</td>\n",
              "      <td>209.889999</td>\n",
              "      <td>208.380005</td>\n",
              "      <td>208.910004</td>\n",
              "      <td>109122100.0</td>\n",
              "    </tr>\n",
              "    <tr>\n",
              "      <th>2016-11-07</th>\n",
              "      <td>197.362137</td>\n",
              "      <td>213.149994</td>\n",
              "      <td>213.190002</td>\n",
              "      <td>208.550003</td>\n",
              "      <td>208.550003</td>\n",
              "      <td>109794900.0</td>\n",
              "    </tr>\n",
              "    <tr>\n",
              "      <th>2016-11-08</th>\n",
              "      <td>198.251022</td>\n",
              "      <td>214.110001</td>\n",
              "      <td>214.770004</td>\n",
              "      <td>212.380005</td>\n",
              "      <td>212.690002</td>\n",
              "      <td>106772100.0</td>\n",
              "    </tr>\n",
              "    <tr>\n",
              "      <th>2016-11-09</th>\n",
              "      <td>200.352905</td>\n",
              "      <td>216.380005</td>\n",
              "      <td>217.100006</td>\n",
              "      <td>212.339996</td>\n",
              "      <td>212.369995</td>\n",
              "      <td>258429000.0</td>\n",
              "    </tr>\n",
              "    <tr>\n",
              "      <th>2016-11-10</th>\n",
              "      <td>200.852905</td>\n",
              "      <td>216.919998</td>\n",
              "      <td>218.309998</td>\n",
              "      <td>215.220001</td>\n",
              "      <td>217.300003</td>\n",
              "      <td>172113300.0</td>\n",
              "    </tr>\n",
              "    <tr>\n",
              "      <th>2016-11-11</th>\n",
              "      <td>200.389908</td>\n",
              "      <td>216.419998</td>\n",
              "      <td>216.699997</td>\n",
              "      <td>215.320007</td>\n",
              "      <td>216.080002</td>\n",
              "      <td>100552700.0</td>\n",
              "    </tr>\n",
              "  </tbody>\n",
              "</table>\n",
              "</div>"
            ],
            "text/plain": [
              "Attributes   Adj Close       Close  ...        Open       Volume\n",
              "Symbols            SPY         SPY  ...         SPY          SPY\n",
              "Date                                ...                         \n",
              "2016-11-01  195.380661  211.009995  ...  212.929993  122781800.0\n",
              "2016-11-02  194.204712  209.740005  ...  210.649994  103330800.0\n",
              "2016-11-03  193.315811  208.779999  ...  209.990005   88939300.0\n",
              "2016-11-04  193.102814  208.550003  ...  208.910004  109122100.0\n",
              "2016-11-07  197.362137  213.149994  ...  208.550003  109794900.0\n",
              "2016-11-08  198.251022  214.110001  ...  212.690002  106772100.0\n",
              "2016-11-09  200.352905  216.380005  ...  212.369995  258429000.0\n",
              "2016-11-10  200.852905  216.919998  ...  217.300003  172113300.0\n",
              "2016-11-11  200.389908  216.419998  ...  216.080002  100552700.0\n",
              "\n",
              "[9 rows x 6 columns]"
            ]
          },
          "metadata": {
            "tags": []
          },
          "execution_count": 6
        }
      ]
    },
    {
      "cell_type": "code",
      "metadata": {
        "id": "ISVamC7fJnu2",
        "outputId": "97a5a2f0-db7f-4e6f-dce6-18afd6c7ad17",
        "colab": {
          "base_uri": "https://localhost:8080/",
          "height": 359
        }
      },
      "source": [
        "rawDf.columns = rawDf.columns.droplevel('Symbols')\n",
        "rawDf.reset_index(inplace = True)\n",
        "rawDf.head(10)"
      ],
      "execution_count": null,
      "outputs": [
        {
          "output_type": "execute_result",
          "data": {
            "text/html": [
              "<div>\n",
              "<style scoped>\n",
              "    .dataframe tbody tr th:only-of-type {\n",
              "        vertical-align: middle;\n",
              "    }\n",
              "\n",
              "    .dataframe tbody tr th {\n",
              "        vertical-align: top;\n",
              "    }\n",
              "\n",
              "    .dataframe thead th {\n",
              "        text-align: right;\n",
              "    }\n",
              "</style>\n",
              "<table border=\"1\" class=\"dataframe\">\n",
              "  <thead>\n",
              "    <tr style=\"text-align: right;\">\n",
              "      <th>Attributes</th>\n",
              "      <th>Date</th>\n",
              "      <th>Adj Close</th>\n",
              "      <th>Close</th>\n",
              "      <th>High</th>\n",
              "      <th>Low</th>\n",
              "      <th>Open</th>\n",
              "      <th>Volume</th>\n",
              "    </tr>\n",
              "  </thead>\n",
              "  <tbody>\n",
              "    <tr>\n",
              "      <th>0</th>\n",
              "      <td>2016-11-01</td>\n",
              "      <td>195.380661</td>\n",
              "      <td>211.009995</td>\n",
              "      <td>212.990005</td>\n",
              "      <td>209.600006</td>\n",
              "      <td>212.929993</td>\n",
              "      <td>122781800.0</td>\n",
              "    </tr>\n",
              "    <tr>\n",
              "      <th>1</th>\n",
              "      <td>2016-11-02</td>\n",
              "      <td>194.204712</td>\n",
              "      <td>209.740005</td>\n",
              "      <td>211.100006</td>\n",
              "      <td>209.229996</td>\n",
              "      <td>210.649994</td>\n",
              "      <td>103330800.0</td>\n",
              "    </tr>\n",
              "    <tr>\n",
              "      <th>2</th>\n",
              "      <td>2016-11-03</td>\n",
              "      <td>193.315811</td>\n",
              "      <td>208.779999</td>\n",
              "      <td>210.240005</td>\n",
              "      <td>208.460007</td>\n",
              "      <td>209.990005</td>\n",
              "      <td>88939300.0</td>\n",
              "    </tr>\n",
              "    <tr>\n",
              "      <th>3</th>\n",
              "      <td>2016-11-04</td>\n",
              "      <td>193.102814</td>\n",
              "      <td>208.550003</td>\n",
              "      <td>209.889999</td>\n",
              "      <td>208.380005</td>\n",
              "      <td>208.910004</td>\n",
              "      <td>109122100.0</td>\n",
              "    </tr>\n",
              "    <tr>\n",
              "      <th>4</th>\n",
              "      <td>2016-11-07</td>\n",
              "      <td>197.362137</td>\n",
              "      <td>213.149994</td>\n",
              "      <td>213.190002</td>\n",
              "      <td>208.550003</td>\n",
              "      <td>208.550003</td>\n",
              "      <td>109794900.0</td>\n",
              "    </tr>\n",
              "    <tr>\n",
              "      <th>5</th>\n",
              "      <td>2016-11-08</td>\n",
              "      <td>198.251022</td>\n",
              "      <td>214.110001</td>\n",
              "      <td>214.770004</td>\n",
              "      <td>212.380005</td>\n",
              "      <td>212.690002</td>\n",
              "      <td>106772100.0</td>\n",
              "    </tr>\n",
              "    <tr>\n",
              "      <th>6</th>\n",
              "      <td>2016-11-09</td>\n",
              "      <td>200.352905</td>\n",
              "      <td>216.380005</td>\n",
              "      <td>217.100006</td>\n",
              "      <td>212.339996</td>\n",
              "      <td>212.369995</td>\n",
              "      <td>258429000.0</td>\n",
              "    </tr>\n",
              "    <tr>\n",
              "      <th>7</th>\n",
              "      <td>2016-11-10</td>\n",
              "      <td>200.852905</td>\n",
              "      <td>216.919998</td>\n",
              "      <td>218.309998</td>\n",
              "      <td>215.220001</td>\n",
              "      <td>217.300003</td>\n",
              "      <td>172113300.0</td>\n",
              "    </tr>\n",
              "    <tr>\n",
              "      <th>8</th>\n",
              "      <td>2016-11-11</td>\n",
              "      <td>200.389908</td>\n",
              "      <td>216.419998</td>\n",
              "      <td>216.699997</td>\n",
              "      <td>215.320007</td>\n",
              "      <td>216.080002</td>\n",
              "      <td>100552700.0</td>\n",
              "    </tr>\n",
              "    <tr>\n",
              "      <th>9</th>\n",
              "      <td>2016-11-14</td>\n",
              "      <td>200.547348</td>\n",
              "      <td>216.589996</td>\n",
              "      <td>217.270004</td>\n",
              "      <td>215.720001</td>\n",
              "      <td>217.029999</td>\n",
              "      <td>94580000.0</td>\n",
              "    </tr>\n",
              "  </tbody>\n",
              "</table>\n",
              "</div>"
            ],
            "text/plain": [
              "Attributes       Date   Adj Close  ...        Open       Volume\n",
              "0          2016-11-01  195.380661  ...  212.929993  122781800.0\n",
              "1          2016-11-02  194.204712  ...  210.649994  103330800.0\n",
              "2          2016-11-03  193.315811  ...  209.990005   88939300.0\n",
              "3          2016-11-04  193.102814  ...  208.910004  109122100.0\n",
              "4          2016-11-07  197.362137  ...  208.550003  109794900.0\n",
              "5          2016-11-08  198.251022  ...  212.690002  106772100.0\n",
              "6          2016-11-09  200.352905  ...  212.369995  258429000.0\n",
              "7          2016-11-10  200.852905  ...  217.300003  172113300.0\n",
              "8          2016-11-11  200.389908  ...  216.080002  100552700.0\n",
              "9          2016-11-14  200.547348  ...  217.029999   94580000.0\n",
              "\n",
              "[10 rows x 7 columns]"
            ]
          },
          "metadata": {
            "tags": []
          },
          "execution_count": 7
        }
      ]
    },
    {
      "cell_type": "code",
      "metadata": {
        "id": "UpmJcsEmJnu9",
        "outputId": "4d17e3b7-26cd-4b5c-ff21-70d4dff44f34",
        "colab": {
          "base_uri": "https://localhost:8080/",
          "height": 359
        }
      },
      "source": [
        "rawDf.columns.name = None\n",
        "rawDf.head(10)"
      ],
      "execution_count": null,
      "outputs": [
        {
          "output_type": "execute_result",
          "data": {
            "text/html": [
              "<div>\n",
              "<style scoped>\n",
              "    .dataframe tbody tr th:only-of-type {\n",
              "        vertical-align: middle;\n",
              "    }\n",
              "\n",
              "    .dataframe tbody tr th {\n",
              "        vertical-align: top;\n",
              "    }\n",
              "\n",
              "    .dataframe thead th {\n",
              "        text-align: right;\n",
              "    }\n",
              "</style>\n",
              "<table border=\"1\" class=\"dataframe\">\n",
              "  <thead>\n",
              "    <tr style=\"text-align: right;\">\n",
              "      <th></th>\n",
              "      <th>Date</th>\n",
              "      <th>Adj Close</th>\n",
              "      <th>Close</th>\n",
              "      <th>High</th>\n",
              "      <th>Low</th>\n",
              "      <th>Open</th>\n",
              "      <th>Volume</th>\n",
              "    </tr>\n",
              "  </thead>\n",
              "  <tbody>\n",
              "    <tr>\n",
              "      <th>0</th>\n",
              "      <td>2016-11-01</td>\n",
              "      <td>195.380661</td>\n",
              "      <td>211.009995</td>\n",
              "      <td>212.990005</td>\n",
              "      <td>209.600006</td>\n",
              "      <td>212.929993</td>\n",
              "      <td>122781800.0</td>\n",
              "    </tr>\n",
              "    <tr>\n",
              "      <th>1</th>\n",
              "      <td>2016-11-02</td>\n",
              "      <td>194.204712</td>\n",
              "      <td>209.740005</td>\n",
              "      <td>211.100006</td>\n",
              "      <td>209.229996</td>\n",
              "      <td>210.649994</td>\n",
              "      <td>103330800.0</td>\n",
              "    </tr>\n",
              "    <tr>\n",
              "      <th>2</th>\n",
              "      <td>2016-11-03</td>\n",
              "      <td>193.315811</td>\n",
              "      <td>208.779999</td>\n",
              "      <td>210.240005</td>\n",
              "      <td>208.460007</td>\n",
              "      <td>209.990005</td>\n",
              "      <td>88939300.0</td>\n",
              "    </tr>\n",
              "    <tr>\n",
              "      <th>3</th>\n",
              "      <td>2016-11-04</td>\n",
              "      <td>193.102814</td>\n",
              "      <td>208.550003</td>\n",
              "      <td>209.889999</td>\n",
              "      <td>208.380005</td>\n",
              "      <td>208.910004</td>\n",
              "      <td>109122100.0</td>\n",
              "    </tr>\n",
              "    <tr>\n",
              "      <th>4</th>\n",
              "      <td>2016-11-07</td>\n",
              "      <td>197.362137</td>\n",
              "      <td>213.149994</td>\n",
              "      <td>213.190002</td>\n",
              "      <td>208.550003</td>\n",
              "      <td>208.550003</td>\n",
              "      <td>109794900.0</td>\n",
              "    </tr>\n",
              "    <tr>\n",
              "      <th>5</th>\n",
              "      <td>2016-11-08</td>\n",
              "      <td>198.251022</td>\n",
              "      <td>214.110001</td>\n",
              "      <td>214.770004</td>\n",
              "      <td>212.380005</td>\n",
              "      <td>212.690002</td>\n",
              "      <td>106772100.0</td>\n",
              "    </tr>\n",
              "    <tr>\n",
              "      <th>6</th>\n",
              "      <td>2016-11-09</td>\n",
              "      <td>200.352905</td>\n",
              "      <td>216.380005</td>\n",
              "      <td>217.100006</td>\n",
              "      <td>212.339996</td>\n",
              "      <td>212.369995</td>\n",
              "      <td>258429000.0</td>\n",
              "    </tr>\n",
              "    <tr>\n",
              "      <th>7</th>\n",
              "      <td>2016-11-10</td>\n",
              "      <td>200.852905</td>\n",
              "      <td>216.919998</td>\n",
              "      <td>218.309998</td>\n",
              "      <td>215.220001</td>\n",
              "      <td>217.300003</td>\n",
              "      <td>172113300.0</td>\n",
              "    </tr>\n",
              "    <tr>\n",
              "      <th>8</th>\n",
              "      <td>2016-11-11</td>\n",
              "      <td>200.389908</td>\n",
              "      <td>216.419998</td>\n",
              "      <td>216.699997</td>\n",
              "      <td>215.320007</td>\n",
              "      <td>216.080002</td>\n",
              "      <td>100552700.0</td>\n",
              "    </tr>\n",
              "    <tr>\n",
              "      <th>9</th>\n",
              "      <td>2016-11-14</td>\n",
              "      <td>200.547348</td>\n",
              "      <td>216.589996</td>\n",
              "      <td>217.270004</td>\n",
              "      <td>215.720001</td>\n",
              "      <td>217.029999</td>\n",
              "      <td>94580000.0</td>\n",
              "    </tr>\n",
              "  </tbody>\n",
              "</table>\n",
              "</div>"
            ],
            "text/plain": [
              "        Date   Adj Close       Close  ...         Low        Open       Volume\n",
              "0 2016-11-01  195.380661  211.009995  ...  209.600006  212.929993  122781800.0\n",
              "1 2016-11-02  194.204712  209.740005  ...  209.229996  210.649994  103330800.0\n",
              "2 2016-11-03  193.315811  208.779999  ...  208.460007  209.990005   88939300.0\n",
              "3 2016-11-04  193.102814  208.550003  ...  208.380005  208.910004  109122100.0\n",
              "4 2016-11-07  197.362137  213.149994  ...  208.550003  208.550003  109794900.0\n",
              "5 2016-11-08  198.251022  214.110001  ...  212.380005  212.690002  106772100.0\n",
              "6 2016-11-09  200.352905  216.380005  ...  212.339996  212.369995  258429000.0\n",
              "7 2016-11-10  200.852905  216.919998  ...  215.220001  217.300003  172113300.0\n",
              "8 2016-11-11  200.389908  216.419998  ...  215.320007  216.080002  100552700.0\n",
              "9 2016-11-14  200.547348  216.589996  ...  215.720001  217.029999   94580000.0\n",
              "\n",
              "[10 rows x 7 columns]"
            ]
          },
          "metadata": {
            "tags": []
          },
          "execution_count": 8
        }
      ]
    },
    {
      "cell_type": "code",
      "metadata": {
        "id": "XQ6XzKKeJnvF",
        "outputId": "497dadaa-d0ee-468d-ea19-8dd3339f3f28",
        "colab": {
          "base_uri": "https://localhost:8080/",
          "height": 34
        }
      },
      "source": [
        "spDf = rawDf.copy()\n",
        "spDf.columns"
      ],
      "execution_count": null,
      "outputs": [
        {
          "output_type": "execute_result",
          "data": {
            "text/plain": [
              "Index(['Date', 'Adj Close', 'Close', 'High', 'Low', 'Open', 'Volume'], dtype='object')"
            ]
          },
          "metadata": {
            "tags": []
          },
          "execution_count": 9
        }
      ]
    },
    {
      "cell_type": "code",
      "metadata": {
        "id": "R3Awe6aDJnvO",
        "outputId": "b4ea1fc1-f7ef-471f-9b0f-3b7e56eda707",
        "colab": {
          "base_uri": "https://localhost:8080/",
          "height": 566
        }
      },
      "source": [
        "# for i in range(0,spDf.shape[0]-2):\n",
        "#     spDf.loc[spDf.index[i+2],'SMA_3'] = np.round(((spDf.iloc[i,2]+ spDf.iloc[i+1,2] +spDf.iloc[i+2,2])/3),1)\n",
        "# for i in range(0,spDf.shape[0]-9):\n",
        "#     spDf.loc[spDf.index[i+9],'SMA_10'] = np.round(((spDf.iloc[i,2]+ spDf.iloc[i+1,2] +spDf.iloc[i+2,2])/10),1)\n",
        "# for i in range(0,spDf.shape[0]-59):\n",
        "#     spDf.loc[spDf.index[i+59],'SMA_60'] = np.round(((spDf.iloc[i,2]+ spDf.iloc[i+1,2] +spDf.iloc[i+2,2])/60),1)\n",
        "spDf['SMA3'] = spDf.rolling(3, win_type='triang').mean().Close\n",
        "spDf['SMA5'] = spDf.rolling(5, win_type='triang').mean().Close\n",
        "spDf['SMA10'] = spDf.rolling(10, win_type='triang').mean().Close\n",
        "spDf['SMA30'] = spDf.rolling(30, win_type='triang').mean().Close\n",
        "spDf['SMA60'] = spDf.rolling(60, win_type='triang').mean().Close\n",
        "\n",
        "spDf.head(10)"
      ],
      "execution_count": null,
      "outputs": [
        {
          "output_type": "execute_result",
          "data": {
            "text/html": [
              "<div>\n",
              "<style scoped>\n",
              "    .dataframe tbody tr th:only-of-type {\n",
              "        vertical-align: middle;\n",
              "    }\n",
              "\n",
              "    .dataframe tbody tr th {\n",
              "        vertical-align: top;\n",
              "    }\n",
              "\n",
              "    .dataframe thead th {\n",
              "        text-align: right;\n",
              "    }\n",
              "</style>\n",
              "<table border=\"1\" class=\"dataframe\">\n",
              "  <thead>\n",
              "    <tr style=\"text-align: right;\">\n",
              "      <th></th>\n",
              "      <th>Date</th>\n",
              "      <th>Adj Close</th>\n",
              "      <th>Close</th>\n",
              "      <th>High</th>\n",
              "      <th>Low</th>\n",
              "      <th>Open</th>\n",
              "      <th>Volume</th>\n",
              "      <th>SMA3</th>\n",
              "      <th>SMA5</th>\n",
              "      <th>SMA10</th>\n",
              "      <th>SMA30</th>\n",
              "      <th>SMA60</th>\n",
              "    </tr>\n",
              "  </thead>\n",
              "  <tbody>\n",
              "    <tr>\n",
              "      <th>0</th>\n",
              "      <td>2016-11-01</td>\n",
              "      <td>195.380661</td>\n",
              "      <td>211.009995</td>\n",
              "      <td>212.990005</td>\n",
              "      <td>209.600006</td>\n",
              "      <td>212.929993</td>\n",
              "      <td>122781800.0</td>\n",
              "      <td>NaN</td>\n",
              "      <td>NaN</td>\n",
              "      <td>NaN</td>\n",
              "      <td>NaN</td>\n",
              "      <td>NaN</td>\n",
              "    </tr>\n",
              "    <tr>\n",
              "      <th>1</th>\n",
              "      <td>2016-11-02</td>\n",
              "      <td>194.204712</td>\n",
              "      <td>209.740005</td>\n",
              "      <td>211.100006</td>\n",
              "      <td>209.229996</td>\n",
              "      <td>210.649994</td>\n",
              "      <td>103330800.0</td>\n",
              "      <td>NaN</td>\n",
              "      <td>NaN</td>\n",
              "      <td>NaN</td>\n",
              "      <td>NaN</td>\n",
              "      <td>NaN</td>\n",
              "    </tr>\n",
              "    <tr>\n",
              "      <th>2</th>\n",
              "      <td>2016-11-03</td>\n",
              "      <td>193.315811</td>\n",
              "      <td>208.779999</td>\n",
              "      <td>210.240005</td>\n",
              "      <td>208.460007</td>\n",
              "      <td>209.990005</td>\n",
              "      <td>88939300.0</td>\n",
              "      <td>209.817501</td>\n",
              "      <td>NaN</td>\n",
              "      <td>NaN</td>\n",
              "      <td>NaN</td>\n",
              "      <td>NaN</td>\n",
              "    </tr>\n",
              "    <tr>\n",
              "      <th>3</th>\n",
              "      <td>2016-11-04</td>\n",
              "      <td>193.102814</td>\n",
              "      <td>208.550003</td>\n",
              "      <td>209.889999</td>\n",
              "      <td>208.380005</td>\n",
              "      <td>208.910004</td>\n",
              "      <td>109122100.0</td>\n",
              "      <td>208.962502</td>\n",
              "      <td>NaN</td>\n",
              "      <td>NaN</td>\n",
              "      <td>NaN</td>\n",
              "      <td>NaN</td>\n",
              "    </tr>\n",
              "    <tr>\n",
              "      <th>4</th>\n",
              "      <td>2016-11-07</td>\n",
              "      <td>197.362137</td>\n",
              "      <td>213.149994</td>\n",
              "      <td>213.190002</td>\n",
              "      <td>208.550003</td>\n",
              "      <td>208.550003</td>\n",
              "      <td>109794900.0</td>\n",
              "      <td>209.757500</td>\n",
              "      <td>209.675556</td>\n",
              "      <td>NaN</td>\n",
              "      <td>NaN</td>\n",
              "      <td>NaN</td>\n",
              "    </tr>\n",
              "    <tr>\n",
              "      <th>5</th>\n",
              "      <td>2016-11-08</td>\n",
              "      <td>198.251022</td>\n",
              "      <td>214.110001</td>\n",
              "      <td>214.770004</td>\n",
              "      <td>212.380005</td>\n",
              "      <td>212.690002</td>\n",
              "      <td>106772100.0</td>\n",
              "      <td>212.239998</td>\n",
              "      <td>210.373333</td>\n",
              "      <td>NaN</td>\n",
              "      <td>NaN</td>\n",
              "      <td>NaN</td>\n",
              "    </tr>\n",
              "    <tr>\n",
              "      <th>6</th>\n",
              "      <td>2016-11-09</td>\n",
              "      <td>200.352905</td>\n",
              "      <td>216.380005</td>\n",
              "      <td>217.100006</td>\n",
              "      <td>212.339996</td>\n",
              "      <td>212.369995</td>\n",
              "      <td>258429000.0</td>\n",
              "      <td>214.437500</td>\n",
              "      <td>212.214444</td>\n",
              "      <td>NaN</td>\n",
              "      <td>NaN</td>\n",
              "      <td>NaN</td>\n",
              "    </tr>\n",
              "    <tr>\n",
              "      <th>7</th>\n",
              "      <td>2016-11-10</td>\n",
              "      <td>200.852905</td>\n",
              "      <td>216.919998</td>\n",
              "      <td>218.309998</td>\n",
              "      <td>215.220001</td>\n",
              "      <td>217.300003</td>\n",
              "      <td>172113300.0</td>\n",
              "      <td>215.947502</td>\n",
              "      <td>214.095556</td>\n",
              "      <td>NaN</td>\n",
              "      <td>NaN</td>\n",
              "      <td>NaN</td>\n",
              "    </tr>\n",
              "    <tr>\n",
              "      <th>8</th>\n",
              "      <td>2016-11-11</td>\n",
              "      <td>200.389908</td>\n",
              "      <td>216.419998</td>\n",
              "      <td>216.699997</td>\n",
              "      <td>215.320007</td>\n",
              "      <td>216.080002</td>\n",
              "      <td>100552700.0</td>\n",
              "      <td>216.660000</td>\n",
              "      <td>215.641112</td>\n",
              "      <td>NaN</td>\n",
              "      <td>NaN</td>\n",
              "      <td>NaN</td>\n",
              "    </tr>\n",
              "    <tr>\n",
              "      <th>9</th>\n",
              "      <td>2016-11-14</td>\n",
              "      <td>200.547348</td>\n",
              "      <td>216.589996</td>\n",
              "      <td>217.270004</td>\n",
              "      <td>215.720001</td>\n",
              "      <td>217.029999</td>\n",
              "      <td>94580000.0</td>\n",
              "      <td>216.587498</td>\n",
              "      <td>216.340000</td>\n",
              "      <td>213.0886</td>\n",
              "      <td>NaN</td>\n",
              "      <td>NaN</td>\n",
              "    </tr>\n",
              "  </tbody>\n",
              "</table>\n",
              "</div>"
            ],
            "text/plain": [
              "        Date   Adj Close       Close  ...     SMA10  SMA30  SMA60\n",
              "0 2016-11-01  195.380661  211.009995  ...       NaN    NaN    NaN\n",
              "1 2016-11-02  194.204712  209.740005  ...       NaN    NaN    NaN\n",
              "2 2016-11-03  193.315811  208.779999  ...       NaN    NaN    NaN\n",
              "3 2016-11-04  193.102814  208.550003  ...       NaN    NaN    NaN\n",
              "4 2016-11-07  197.362137  213.149994  ...       NaN    NaN    NaN\n",
              "5 2016-11-08  198.251022  214.110001  ...       NaN    NaN    NaN\n",
              "6 2016-11-09  200.352905  216.380005  ...       NaN    NaN    NaN\n",
              "7 2016-11-10  200.852905  216.919998  ...       NaN    NaN    NaN\n",
              "8 2016-11-11  200.389908  216.419998  ...       NaN    NaN    NaN\n",
              "9 2016-11-14  200.547348  216.589996  ...  213.0886    NaN    NaN\n",
              "\n",
              "[10 rows x 12 columns]"
            ]
          },
          "metadata": {
            "tags": []
          },
          "execution_count": 10
        }
      ]
    },
    {
      "cell_type": "code",
      "metadata": {
        "id": "9wO0VsHrJnvT",
        "outputId": "81130551-7088-422f-94ec-7cb80d266ece",
        "colab": {
          "base_uri": "https://localhost:8080/",
          "height": 221
        }
      },
      "source": [
        "stocks = StockDataFrame.retype(spDf[[\"Open\", \"Close\", \"High\", \"Low\", \"Volume\"]])\n",
        "stocks['rsi_12']"
      ],
      "execution_count": null,
      "outputs": [
        {
          "output_type": "execute_result",
          "data": {
            "text/plain": [
              "0            NaN\n",
              "1       0.000000\n",
              "2       0.000000\n",
              "3       0.000000\n",
              "4      69.742190\n",
              "         ...    \n",
              "980    35.841259\n",
              "981    43.331054\n",
              "982    49.981120\n",
              "983    47.935577\n",
              "984    50.966763\n",
              "Name: rsi_12, Length: 985, dtype: float64"
            ]
          },
          "metadata": {
            "tags": []
          },
          "execution_count": 11
        }
      ]
    },
    {
      "cell_type": "code",
      "metadata": {
        "id": "nEHuwusOJnvY",
        "outputId": "902767a1-62ea-4bc9-c7ce-69023b687480",
        "colab": {
          "base_uri": "https://localhost:8080/",
          "height": 566
        }
      },
      "source": [
        "stockData = spDf.copy()\n",
        "stockData['Action'] = 0\n",
        "stockData['Quantity'] = 0\n",
        "stockData['Remaining'] = 1000000\n",
        "stockData['Portfolio'] = stockData['Remaining'] + stockData['Quantity']*stockData['Close']\n",
        "stockData['Index'] = 1000000\n",
        "stockData['DailyReturnIndex'] = 0\n",
        "stockData['DailyReturnPort1'] = 0\n",
        "#indicators\n",
        "stockData['RSI12'] = stocks['rsi_12']\n",
        "# MACD\n",
        "stockData['MACD'] = stocks['macd']\n",
        "# MACD signal line\n",
        "stockData['MACDS'] = stocks['macds']\n",
        "# MACD histogram\n",
        "stockData['MACDH'] = stocks['macdh']\n",
        "\n",
        "stockData.head(10)"
      ],
      "execution_count": null,
      "outputs": [
        {
          "output_type": "execute_result",
          "data": {
            "text/html": [
              "<div>\n",
              "<style scoped>\n",
              "    .dataframe tbody tr th:only-of-type {\n",
              "        vertical-align: middle;\n",
              "    }\n",
              "\n",
              "    .dataframe tbody tr th {\n",
              "        vertical-align: top;\n",
              "    }\n",
              "\n",
              "    .dataframe thead th {\n",
              "        text-align: right;\n",
              "    }\n",
              "</style>\n",
              "<table border=\"1\" class=\"dataframe\">\n",
              "  <thead>\n",
              "    <tr style=\"text-align: right;\">\n",
              "      <th></th>\n",
              "      <th>Date</th>\n",
              "      <th>Adj Close</th>\n",
              "      <th>Close</th>\n",
              "      <th>High</th>\n",
              "      <th>Low</th>\n",
              "      <th>Open</th>\n",
              "      <th>Volume</th>\n",
              "      <th>SMA3</th>\n",
              "      <th>SMA5</th>\n",
              "      <th>SMA10</th>\n",
              "      <th>SMA30</th>\n",
              "      <th>SMA60</th>\n",
              "      <th>Action</th>\n",
              "      <th>Quantity</th>\n",
              "      <th>Remaining</th>\n",
              "      <th>Portfolio</th>\n",
              "      <th>Index</th>\n",
              "      <th>DailyReturnIndex</th>\n",
              "      <th>DailyReturnPort1</th>\n",
              "      <th>RSI12</th>\n",
              "      <th>MACD</th>\n",
              "      <th>MACDS</th>\n",
              "      <th>MACDH</th>\n",
              "    </tr>\n",
              "  </thead>\n",
              "  <tbody>\n",
              "    <tr>\n",
              "      <th>0</th>\n",
              "      <td>2016-11-01</td>\n",
              "      <td>195.380661</td>\n",
              "      <td>211.009995</td>\n",
              "      <td>212.990005</td>\n",
              "      <td>209.600006</td>\n",
              "      <td>212.929993</td>\n",
              "      <td>122781800.0</td>\n",
              "      <td>NaN</td>\n",
              "      <td>NaN</td>\n",
              "      <td>NaN</td>\n",
              "      <td>NaN</td>\n",
              "      <td>NaN</td>\n",
              "      <td>0</td>\n",
              "      <td>0</td>\n",
              "      <td>1000000</td>\n",
              "      <td>1000000.0</td>\n",
              "      <td>1000000</td>\n",
              "      <td>0</td>\n",
              "      <td>0</td>\n",
              "      <td>NaN</td>\n",
              "      <td>0.000000</td>\n",
              "      <td>0.000000</td>\n",
              "      <td>0.000000</td>\n",
              "    </tr>\n",
              "    <tr>\n",
              "      <th>1</th>\n",
              "      <td>2016-11-02</td>\n",
              "      <td>194.204712</td>\n",
              "      <td>209.740005</td>\n",
              "      <td>211.100006</td>\n",
              "      <td>209.229996</td>\n",
              "      <td>210.649994</td>\n",
              "      <td>103330800.0</td>\n",
              "      <td>NaN</td>\n",
              "      <td>NaN</td>\n",
              "      <td>NaN</td>\n",
              "      <td>NaN</td>\n",
              "      <td>NaN</td>\n",
              "      <td>0</td>\n",
              "      <td>0</td>\n",
              "      <td>1000000</td>\n",
              "      <td>1000000.0</td>\n",
              "      <td>1000000</td>\n",
              "      <td>0</td>\n",
              "      <td>0</td>\n",
              "      <td>0.000000</td>\n",
              "      <td>-0.028493</td>\n",
              "      <td>-0.015830</td>\n",
              "      <td>-0.012664</td>\n",
              "    </tr>\n",
              "    <tr>\n",
              "      <th>2</th>\n",
              "      <td>2016-11-03</td>\n",
              "      <td>193.315811</td>\n",
              "      <td>208.779999</td>\n",
              "      <td>210.240005</td>\n",
              "      <td>208.460007</td>\n",
              "      <td>209.990005</td>\n",
              "      <td>88939300.0</td>\n",
              "      <td>209.817501</td>\n",
              "      <td>NaN</td>\n",
              "      <td>NaN</td>\n",
              "      <td>NaN</td>\n",
              "      <td>NaN</td>\n",
              "      <td>0</td>\n",
              "      <td>0</td>\n",
              "      <td>1000000</td>\n",
              "      <td>1000000.0</td>\n",
              "      <td>1000000</td>\n",
              "      <td>0</td>\n",
              "      <td>0</td>\n",
              "      <td>0.000000</td>\n",
              "      <td>-0.066076</td>\n",
              "      <td>-0.036422</td>\n",
              "      <td>-0.029654</td>\n",
              "    </tr>\n",
              "    <tr>\n",
              "      <th>3</th>\n",
              "      <td>2016-11-04</td>\n",
              "      <td>193.102814</td>\n",
              "      <td>208.550003</td>\n",
              "      <td>209.889999</td>\n",
              "      <td>208.380005</td>\n",
              "      <td>208.910004</td>\n",
              "      <td>109122100.0</td>\n",
              "      <td>208.962502</td>\n",
              "      <td>NaN</td>\n",
              "      <td>NaN</td>\n",
              "      <td>NaN</td>\n",
              "      <td>NaN</td>\n",
              "      <td>0</td>\n",
              "      <td>0</td>\n",
              "      <td>1000000</td>\n",
              "      <td>1000000.0</td>\n",
              "      <td>1000000</td>\n",
              "      <td>0</td>\n",
              "      <td>0</td>\n",
              "      <td>0.000000</td>\n",
              "      <td>-0.089854</td>\n",
              "      <td>-0.054522</td>\n",
              "      <td>-0.035331</td>\n",
              "    </tr>\n",
              "    <tr>\n",
              "      <th>4</th>\n",
              "      <td>2016-11-07</td>\n",
              "      <td>197.362137</td>\n",
              "      <td>213.149994</td>\n",
              "      <td>213.190002</td>\n",
              "      <td>208.550003</td>\n",
              "      <td>208.550003</td>\n",
              "      <td>109794900.0</td>\n",
              "      <td>209.757500</td>\n",
              "      <td>209.675556</td>\n",
              "      <td>NaN</td>\n",
              "      <td>NaN</td>\n",
              "      <td>NaN</td>\n",
              "      <td>0</td>\n",
              "      <td>0</td>\n",
              "      <td>1000000</td>\n",
              "      <td>1000000.0</td>\n",
              "      <td>1000000</td>\n",
              "      <td>0</td>\n",
              "      <td>0</td>\n",
              "      <td>69.742190</td>\n",
              "      <td>0.082162</td>\n",
              "      <td>-0.013862</td>\n",
              "      <td>0.096024</td>\n",
              "    </tr>\n",
              "    <tr>\n",
              "      <th>5</th>\n",
              "      <td>2016-11-08</td>\n",
              "      <td>198.251022</td>\n",
              "      <td>214.110001</td>\n",
              "      <td>214.770004</td>\n",
              "      <td>212.380005</td>\n",
              "      <td>212.690002</td>\n",
              "      <td>106772100.0</td>\n",
              "      <td>212.239998</td>\n",
              "      <td>210.373333</td>\n",
              "      <td>NaN</td>\n",
              "      <td>NaN</td>\n",
              "      <td>NaN</td>\n",
              "      <td>0</td>\n",
              "      <td>0</td>\n",
              "      <td>1000000</td>\n",
              "      <td>1000000.0</td>\n",
              "      <td>1000000</td>\n",
              "      <td>0</td>\n",
              "      <td>0</td>\n",
              "      <td>73.888265</td>\n",
              "      <td>0.225072</td>\n",
              "      <td>0.050902</td>\n",
              "      <td>0.174170</td>\n",
              "    </tr>\n",
              "    <tr>\n",
              "      <th>6</th>\n",
              "      <td>2016-11-09</td>\n",
              "      <td>200.352905</td>\n",
              "      <td>216.380005</td>\n",
              "      <td>217.100006</td>\n",
              "      <td>212.339996</td>\n",
              "      <td>212.369995</td>\n",
              "      <td>258429000.0</td>\n",
              "      <td>214.437500</td>\n",
              "      <td>212.214444</td>\n",
              "      <td>NaN</td>\n",
              "      <td>NaN</td>\n",
              "      <td>NaN</td>\n",
              "      <td>0</td>\n",
              "      <td>0</td>\n",
              "      <td>1000000</td>\n",
              "      <td>1000000.0</td>\n",
              "      <td>1000000</td>\n",
              "      <td>0</td>\n",
              "      <td>0</td>\n",
              "      <td>80.707425</td>\n",
              "      <td>0.415680</td>\n",
              "      <td>0.143218</td>\n",
              "      <td>0.272462</td>\n",
              "    </tr>\n",
              "    <tr>\n",
              "      <th>7</th>\n",
              "      <td>2016-11-10</td>\n",
              "      <td>200.852905</td>\n",
              "      <td>216.919998</td>\n",
              "      <td>218.309998</td>\n",
              "      <td>215.220001</td>\n",
              "      <td>217.300003</td>\n",
              "      <td>172113300.0</td>\n",
              "      <td>215.947502</td>\n",
              "      <td>214.095556</td>\n",
              "      <td>NaN</td>\n",
              "      <td>NaN</td>\n",
              "      <td>NaN</td>\n",
              "      <td>0</td>\n",
              "      <td>0</td>\n",
              "      <td>1000000</td>\n",
              "      <td>1000000.0</td>\n",
              "      <td>1000000</td>\n",
              "      <td>0</td>\n",
              "      <td>0</td>\n",
              "      <td>81.931921</td>\n",
              "      <td>0.562487</td>\n",
              "      <td>0.243976</td>\n",
              "      <td>0.318511</td>\n",
              "    </tr>\n",
              "    <tr>\n",
              "      <th>8</th>\n",
              "      <td>2016-11-11</td>\n",
              "      <td>200.389908</td>\n",
              "      <td>216.419998</td>\n",
              "      <td>216.699997</td>\n",
              "      <td>215.320007</td>\n",
              "      <td>216.080002</td>\n",
              "      <td>100552700.0</td>\n",
              "      <td>216.660000</td>\n",
              "      <td>215.641112</td>\n",
              "      <td>NaN</td>\n",
              "      <td>NaN</td>\n",
              "      <td>NaN</td>\n",
              "      <td>0</td>\n",
              "      <td>0</td>\n",
              "      <td>1000000</td>\n",
              "      <td>1000000.0</td>\n",
              "      <td>1000000</td>\n",
              "      <td>0</td>\n",
              "      <td>0</td>\n",
              "      <td>76.995601</td>\n",
              "      <td>0.630783</td>\n",
              "      <td>0.333331</td>\n",
              "      <td>0.297453</td>\n",
              "    </tr>\n",
              "    <tr>\n",
              "      <th>9</th>\n",
              "      <td>2016-11-14</td>\n",
              "      <td>200.547348</td>\n",
              "      <td>216.589996</td>\n",
              "      <td>217.270004</td>\n",
              "      <td>215.720001</td>\n",
              "      <td>217.029999</td>\n",
              "      <td>94580000.0</td>\n",
              "      <td>216.587498</td>\n",
              "      <td>216.340000</td>\n",
              "      <td>213.0886</td>\n",
              "      <td>NaN</td>\n",
              "      <td>NaN</td>\n",
              "      <td>0</td>\n",
              "      <td>0</td>\n",
              "      <td>1000000</td>\n",
              "      <td>1000000.0</td>\n",
              "      <td>1000000</td>\n",
              "      <td>0</td>\n",
              "      <td>0</td>\n",
              "      <td>77.498436</td>\n",
              "      <td>0.678810</td>\n",
              "      <td>0.410738</td>\n",
              "      <td>0.268072</td>\n",
              "    </tr>\n",
              "  </tbody>\n",
              "</table>\n",
              "</div>"
            ],
            "text/plain": [
              "        Date   Adj Close       Close  ...      MACD     MACDS     MACDH\n",
              "0 2016-11-01  195.380661  211.009995  ...  0.000000  0.000000  0.000000\n",
              "1 2016-11-02  194.204712  209.740005  ... -0.028493 -0.015830 -0.012664\n",
              "2 2016-11-03  193.315811  208.779999  ... -0.066076 -0.036422 -0.029654\n",
              "3 2016-11-04  193.102814  208.550003  ... -0.089854 -0.054522 -0.035331\n",
              "4 2016-11-07  197.362137  213.149994  ...  0.082162 -0.013862  0.096024\n",
              "5 2016-11-08  198.251022  214.110001  ...  0.225072  0.050902  0.174170\n",
              "6 2016-11-09  200.352905  216.380005  ...  0.415680  0.143218  0.272462\n",
              "7 2016-11-10  200.852905  216.919998  ...  0.562487  0.243976  0.318511\n",
              "8 2016-11-11  200.389908  216.419998  ...  0.630783  0.333331  0.297453\n",
              "9 2016-11-14  200.547348  216.589996  ...  0.678810  0.410738  0.268072\n",
              "\n",
              "[10 rows x 23 columns]"
            ]
          },
          "metadata": {
            "tags": []
          },
          "execution_count": 12
        }
      ]
    },
    {
      "cell_type": "code",
      "metadata": {
        "id": "nf_HPgt5LW-1"
      },
      "source": [
        "import scipy"
      ],
      "execution_count": null,
      "outputs": []
    },
    {
      "cell_type": "code",
      "metadata": {
        "id": "jJ53bfYqK-p-",
        "outputId": "bb31039e-5014-454a-fc19-fb5499204849",
        "colab": {
          "base_uri": "https://localhost:8080/",
          "height": 394
        }
      },
      "source": [
        "lrdata = stockData.copy()\n",
        "lrdata['percentChange'] = (lrdata['Close']-lrdata['Open'])/lrdata['Open']\n",
        "\n",
        "\n",
        "min = 1\n",
        "\n",
        "\n",
        "for i in list(lrdata.columns):\n",
        "    minj = 1\n",
        "    mini = 0.05\n",
        "    for j in range(10, 3000):\n",
        "        \n",
        "        try:\n",
        "            var = i\n",
        "            k = scipy.stats.linregress(x = np.array(lrdata.tail(j)[var]), y = np.array(lrdata.tail(j)['percentChange']))[3]\n",
        "            if (k < mini) & (k!=0) & (i!= 'percentChange'):\n",
        "                minj = j\n",
        "                mini = k\n",
        "        except Exception as e:  \n",
        "            #print('error: ' + str(e))\n",
        "            pass\n",
        "    if (mini < 0.05):\n",
        "        print(\"Significant variable: \" + str(i) + \", max at day: \" + str(minj) + \", p-value = \" + str(mini))\n",
        "print('done')\n",
        "\n"
      ],
      "execution_count": null,
      "outputs": [
        {
          "output_type": "stream",
          "text": [
            "Significant variable: High, max at day: 19, p-value = 0.01561464596833684\n",
            "Significant variable: Low, max at day: 445, p-value = 0.03084375167787072\n",
            "Significant variable: Open, max at day: 445, p-value = 0.0010183364816024856\n",
            "Significant variable: Volume, max at day: 75, p-value = 1.5428081697741548e-06\n",
            "Significant variable: SMA3, max at day: 445, p-value = 0.005407418047940749\n",
            "Significant variable: SMA5, max at day: 445, p-value = 0.0034148405744430436\n",
            "Significant variable: SMA10, max at day: 445, p-value = 0.003976495609708815\n",
            "Significant variable: SMA60, max at day: 19, p-value = 0.03500131428046184\n"
          ],
          "name": "stdout"
        },
        {
          "output_type": "stream",
          "text": [
            "/usr/local/lib/python3.6/dist-packages/scipy/stats/_stats_mstats_common.py:130: RuntimeWarning:\n",
            "\n",
            "invalid value encountered in double_scalars\n",
            "\n",
            "/usr/local/lib/python3.6/dist-packages/scipy/stats/_stats_mstats_common.py:142: RuntimeWarning:\n",
            "\n",
            "divide by zero encountered in double_scalars\n",
            "\n"
          ],
          "name": "stderr"
        },
        {
          "output_type": "stream",
          "text": [
            "Significant variable: RSI12, max at day: 981, p-value = 6.000195224627528e-15\n",
            "Significant variable: MACD, max at day: 133, p-value = 0.0007665506611927179\n",
            "Significant variable: MACDS, max at day: 133, p-value = 0.0014622513000596678\n",
            "Significant variable: MACDH, max at day: 984, p-value = 0.0023264300019965943\n",
            "done\n"
          ],
          "name": "stdout"
        }
      ]
    },
    {
      "cell_type": "code",
      "metadata": {
        "id": "nAnTWq6QY-zY",
        "outputId": "930f30e6-9370-477f-cd47-d8887f872b60",
        "colab": {
          "base_uri": "https://localhost:8080/",
          "height": 335
        }
      },
      "source": [
        "var = 'RSI12'\n",
        "days = 981\n",
        "plt.scatter(y = 'percentChange', x=var, data=lrdata.tail(days))\n",
        "\n",
        "print(scipy.stats.linregress(x = np.array(lrdata.tail(days)[var]), y = np.array(lrdata.tail(days)['percentChange'])))\n",
        "m,b,r,p,s = scipy.stats.linregress(x = np.array(lrdata.tail(days)[var]), y = np.array(lrdata.tail(days)['percentChange']))\n",
        "x = lrdata.tail(days)[var]\n",
        "plt.plot(x, m*x + b, color = 'r')\n",
        "plt.title(\"X = \" + var + \", Y = Daily Percent Change, p-value = \"+str(p))"
      ],
      "execution_count": null,
      "outputs": [
        {
          "output_type": "stream",
          "text": [
            "LinregressResult(slope=0.00015976669304522742, intercept=-0.00913231648812424, rvalue=0.2456465045694326, pvalue=6.000195224627528e-15, stderr=2.014972724502039e-05)\n"
          ],
          "name": "stdout"
        },
        {
          "output_type": "execute_result",
          "data": {
            "text/plain": [
              "Text(0.5, 1.0, 'X = RSI12, Y = Daily Percent Change, p-value = 6.000195224627528e-15')"
            ]
          },
          "metadata": {
            "tags": []
          },
          "execution_count": 15
        },
        {
          "output_type": "display_data",
          "data": {
            "image/png": "[encoded data removed]",
            "text/plain": [
              "<Figure size 432x288 with 1 Axes>"
            ]
          },
          "metadata": {
            "tags": [],
            "needs_background": "light"
          }
        }
      ]
    },
    {
      "cell_type": "code",
      "metadata": {
        "id": "hONvxN-JQnab",
        "outputId": "75552d7a-c85c-4d53-c232-f2fd09d29702",
        "colab": {
          "base_uri": "https://localhost:8080/",
          "height": 335
        }
      },
      "source": [
        "var = 'SMA3'\n",
        "days = 445\n",
        "plt.scatter(y = 'percentChange', x=var, data=lrdata.tail(days))\n",
        "\n",
        "print(scipy.stats.linregress(x = np.array(lrdata.tail(days)[var]), y = np.array(lrdata.tail(days)['percentChange'])))\n",
        "m,b,r,p,s = scipy.stats.linregress(x = np.array(lrdata.tail(days)[var]), y = np.array(lrdata.tail(days)['percentChange']))\n",
        "x = lrdata.tail(days)[var]\n",
        "plt.plot(x, m*x + b, color = 'r')\n",
        "plt.title(\"X = \" + var + \", Y = Daily Percent Change, p-value = \"+str(p))"
      ],
      "execution_count": null,
      "outputs": [
        {
          "output_type": "stream",
          "text": [
            "LinregressResult(slope=-5.518193282908088e-05, intercept=0.01706198247107662, rvalue=-0.13166128750011172, pvalue=0.005407418047940749, stderr=1.973966412771268e-05)\n"
          ],
          "name": "stdout"
        },
        {
          "output_type": "execute_result",
          "data": {
            "text/plain": [
              "Text(0.5, 1.0, 'X = SMA3, Y = Daily Percent Change, p-value = 0.005407418047940749')"
            ]
          },
          "metadata": {
            "tags": []
          },
          "execution_count": 42
        },
        {
          "output_type": "display_data",
          "data": {
            "image/png": "[encoded data removed]",
            "text/plain": [
              "<Figure size 432x288 with 1 Axes>"
            ]
          },
          "metadata": {
            "tags": [],
            "needs_background": "light"
          }
        }
      ]
    },
    {
      "cell_type": "code",
      "metadata": {
        "id": "SfFkib2OaOt5",
        "outputId": "78348d9b-3299-4780-afc8-cfb4c96b8c93",
        "colab": {
          "base_uri": "https://localhost:8080/",
          "height": 335
        }
      },
      "source": [
        "var = 'SMA5'\n",
        "days = 445\n",
        "plt.scatter(y = 'percentChange', x=var, data=lrdata.tail(days))\n",
        "\n",
        "print(scipy.stats.linregress(x = np.array(lrdata.tail(days)[var]), y = np.array(lrdata.tail(days)['percentChange'])))\n",
        "m,b,r,p,s = scipy.stats.linregress(x = np.array(lrdata.tail(days)[var]), y = np.array(lrdata.tail(days)['percentChange']))\n",
        "x = lrdata.tail(days)[var]\n",
        "plt.plot(x, m*x + b, color = 'r')\n",
        "plt.title(\"X = \" + var + \", Y = Daily Percent Change, p-value = \"+str(p))"
      ],
      "execution_count": null,
      "outputs": [
        {
          "output_type": "stream",
          "text": [
            "LinregressResult(slope=-5.805260100738433e-05, intercept=0.017906870481809067, rvalue=-0.13850614799480798, pvalue=0.0034148405744430436, stderr=1.9721709154026056e-05)\n"
          ],
          "name": "stdout"
        },
        {
          "output_type": "execute_result",
          "data": {
            "text/plain": [
              "Text(0.5, 1.0, 'X = SMA5, Y = Daily Percent Change, p-value = 0.0034148405744430436')"
            ]
          },
          "metadata": {
            "tags": []
          },
          "execution_count": 18
        },
        {
          "output_type": "display_data",
          "data": {
            "image/png": "[encoded data removed]",
            "text/plain": [
              "<Figure size 432x288 with 1 Axes>"
            ]
          },
          "metadata": {
            "tags": [],
            "needs_background": "light"
          }
        }
      ]
    },
    {
      "cell_type": "code",
      "metadata": {
        "id": "LJGApchnRPiW",
        "outputId": "2857563b-64e0-42cb-e896-6a5aa0ac182e",
        "colab": {
          "base_uri": "https://localhost:8080/",
          "height": 335
        }
      },
      "source": [
        "var = 'SMA60'\n",
        "days = 980\n",
        "plt.scatter(y = 'percentChange', x=var, data=lrdata.tail(days))\n",
        "\n",
        "print(scipy.stats.linregress(x = np.array(lrdata.tail(days)[var]), y = np.array(lrdata.tail(days)['percentChange'])))\n",
        "m,b,r,p,s = scipy.stats.linregress(x = np.array(lrdata.tail(days)[var]), y = np.array(lrdata.tail(days)['percentChange']))\n",
        "x = lrdata.tail(days)[var]\n",
        "plt.plot(x, m*x + b, color = 'r')\n",
        "plt.title(\"X = \" + var + \", Y = Daily Percent Change, p-value = \"+str(p))"
      ],
      "execution_count": null,
      "outputs": [
        {
          "output_type": "stream",
          "text": [
            "LinregressResult(slope=0.0015993843895547226, intercept=-0.5330626022550936, rvalue=0.48572564086463466, pvalue=0.03500131428046184, stderr=0.0006980782506432776)\n"
          ],
          "name": "stdout"
        },
        {
          "output_type": "execute_result",
          "data": {
            "text/plain": [
              "Text(0.5, 1.0, 'X = SMA60, Y = Daily Percent Change, p-value = 0.03500131428046184')"
            ]
          },
          "metadata": {
            "tags": []
          },
          "execution_count": 47
        },
        {
          "output_type": "display_data",
          "data": {
            "image/png": "[encoded data removed]",
            "text/plain": [
              "<Figure size 432x288 with 1 Axes>"
            ]
          },
          "metadata": {
            "tags": [],
            "needs_background": "light"
          }
        }
      ]
    },
    {
      "cell_type": "code",
      "metadata": {
        "id": "RXOvQO2FQ8n0",
        "outputId": "678bfd82-9644-4696-92ba-cc06e4f81314",
        "colab": {
          "base_uri": "https://localhost:8080/",
          "height": 335
        }
      },
      "source": [
        "var = 'MACDH'\n",
        "days = 984\n",
        "plt.scatter(y = 'percentChange', x=var, data=lrdata.tail(days))\n",
        "\n",
        "print(scipy.stats.linregress(x = np.array(lrdata.tail(days)[var]), y = np.array(lrdata.tail(days)['percentChange'])))\n",
        "m,b,r,p,s = scipy.stats.linregress(x = np.array(lrdata.tail(days)[var]), y = np.array(lrdata.tail(days)['percentChange']))\n",
        "x = lrdata.tail(days)[var]\n",
        "plt.plot(x, m*x + b, color = 'r')\n",
        "plt.title(\"X = \" + var + \", Y = Daily Percent Change, p-value = \"+str(p))"
      ],
      "execution_count": null,
      "outputs": [
        {
          "output_type": "stream",
          "text": [
            "LinregressResult(slope=0.0007148220166615625, intercept=0.00014332914604931702, rvalue=0.09696701165397018, pvalue=0.0023264300019965943, stderr=0.00023413522468415624)\n"
          ],
          "name": "stdout"
        },
        {
          "output_type": "execute_result",
          "data": {
            "text/plain": [
              "Text(0.5, 1.0, 'X = MACDH, Y = Daily Percent Change, p-value = 0.0023264300019965943')"
            ]
          },
          "metadata": {
            "tags": []
          },
          "execution_count": 16
        },
        {
          "output_type": "display_data",
          "data": {
            "image/png": "[encoded data removed]",
            "text/plain": [
              "<Figure size 432x288 with 1 Axes>"
            ]
          },
          "metadata": {
            "tags": [],
            "needs_background": "light"
          }
        }
      ]
    },
    {
      "cell_type": "code",
      "metadata": {
        "id": "vUUgPF8LNhlL",
        "outputId": "b8749592-47e4-4e38-f76b-33e5e3457cd6",
        "colab": {
          "base_uri": "https://localhost:8080/",
          "height": 335
        }
      },
      "source": [
        "var = 'RSI12'\n",
        "days = 981\n",
        "plt.scatter(y = 'percentChange', x=var, data=lrdata.tail(days))\n",
        "\n",
        "print(scipy.stats.linregress(x = np.array(lrdata.tail(days)[var]), y = np.array(lrdata.tail(days)['percentChange'])))\n",
        "m,b,r,p,s = scipy.stats.linregress(x = np.array(lrdata.tail(days)[var]), y = np.array(lrdata.tail(days)['percentChange']))\n",
        "x = lrdata.tail(days)[var]\n",
        "plt.plot(x, m*x + b, color = 'r')\n",
        "plt.title(\"X = \" + var + \", Y = Daily Percent Change, p = \"+str(p))"
      ],
      "execution_count": null,
      "outputs": [
        {
          "output_type": "stream",
          "text": [
            "LinregressResult(slope=0.00015976669304522742, intercept=-0.00913231648812424, rvalue=0.2456465045694326, pvalue=6.000195224627528e-15, stderr=2.014972724502039e-05)\n"
          ],
          "name": "stdout"
        },
        {
          "output_type": "execute_result",
          "data": {
            "text/plain": [
              "Text(0.5, 1.0, 'X = RSI12, Y = Daily Percent Change, p = 6.000195224627528e-15')"
            ]
          },
          "metadata": {
            "tags": []
          },
          "execution_count": 38
        },
        {
          "output_type": "display_data",
          "data": {
            "image/png": "[encoded data removed]",
            "text/plain": [
              "<Figure size 432x288 with 1 Axes>"
            ]
          },
          "metadata": {
            "tags": [],
            "needs_background": "light"
          }
        }
      ]
    },
    {
      "cell_type": "code",
      "metadata": {
        "id": "CWUaiO-6NLyv",
        "outputId": "d1959744-09ec-4350-ed17-140eecb82876",
        "colab": {
          "base_uri": "https://localhost:8080/",
          "height": 335
        }
      },
      "source": [
        "var = 'SMA10'\n",
        "days = 445\n",
        "plt.scatter(y = 'percentChange', x=var, data=lrdata.tail(days))\n",
        "\n",
        "print(scipy.stats.linregress(x = np.array(lrdata.tail(days)[var]), y = np.array(lrdata.tail(days)['percentChange'])))\n",
        "m,b,r,p,s = scipy.stats.linregress(x = np.array(lrdata.tail(days)[var]), y = np.array(lrdata.tail(days)['percentChange']))\n",
        "x = lrdata.tail(days)[var]\n",
        "plt.plot(x, m*x + b, color = 'r')\n",
        "plt.title(\"X = \" + var + \", Y = Daily Percent Change, p-value = \"+str(p))"
      ],
      "execution_count": null,
      "outputs": [
        {
          "output_type": "stream",
          "text": [
            "LinregressResult(slope=-5.720691249678151e-05, intercept=0.017629834251038264, rvalue=-0.13627192701080368, pvalue=0.003976495609708815, stderr=1.9759224924663806e-05)\n"
          ],
          "name": "stdout"
        },
        {
          "output_type": "execute_result",
          "data": {
            "text/plain": [
              "Text(0.5, 1.0, 'X = SMA10, Y = Daily Percent Change, p-value = 0.003976495609708815')"
            ]
          },
          "metadata": {
            "tags": []
          },
          "execution_count": 19
        },
        {
          "output_type": "display_data",
          "data": {
            "image/png": "[encoded data removed]",
            "text/plain": [
              "<Figure size 432x288 with 1 Axes>"
            ]
          },
          "metadata": {
            "tags": [],
            "needs_background": "light"
          }
        }
      ]
    },
    {
      "cell_type": "code",
      "metadata": {
        "id": "2_EMW8K-UaQ9"
      },
      "source": [
        ""
      ],
      "execution_count": null,
      "outputs": []
    }
  ]
}